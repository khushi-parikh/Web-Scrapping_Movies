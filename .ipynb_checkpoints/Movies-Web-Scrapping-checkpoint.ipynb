{
 "cells": [
  {
   "cell_type": "markdown",
   "metadata": {},
   "source": [
    "# Movies"
   ]
  },
  {
   "cell_type": "code",
   "execution_count": null,
   "metadata": {},
   "outputs": [],
   "source": []
  },
  {
   "cell_type": "markdown",
   "metadata": {},
   "source": [
    "# Pick a website and describe your objective\n",
    "- Browse through different sites and pick on to scrape.\n",
    "- Identify the information you'd like to scrape from the site. Decide the format of the output - CSV file.\n",
    "- Summarize your project idea and outline your strategy in a Juptyer notebook."
   ]
  },
  {
   "cell_type": "markdown",
   "metadata": {},
   "source": [
    "## Outline\n",
    "- We are going to scrape https://www.themoviedb.org/movie\n",
    "- Get a list of movies with other information for each movie"
   ]
  },
  {
   "cell_type": "code",
   "execution_count": null,
   "metadata": {},
   "outputs": [],
   "source": []
  },
  {
   "cell_type": "code",
   "execution_count": 269,
   "metadata": {},
   "outputs": [],
   "source": [
    "!pip install requests --upgrade --quiet"
   ]
  },
  {
   "cell_type": "code",
   "execution_count": 270,
   "metadata": {},
   "outputs": [],
   "source": [
    "import requests"
   ]
  },
  {
   "cell_type": "code",
   "execution_count": 271,
   "metadata": {},
   "outputs": [],
   "source": [
    "topics_url = \"https://www.themoviedb.org/movie\""
   ]
  },
  {
   "cell_type": "code",
   "execution_count": 272,
   "metadata": {},
   "outputs": [],
   "source": [
    "response = requests.get(topics_url)"
   ]
  },
  {
   "cell_type": "code",
   "execution_count": 273,
   "metadata": {},
   "outputs": [
    {
     "data": {
      "text/plain": [
       "200"
      ]
     },
     "execution_count": 273,
     "metadata": {},
     "output_type": "execute_result"
    }
   ],
   "source": [
    "response.status_code"
   ]
  },
  {
   "cell_type": "code",
   "execution_count": 274,
   "metadata": {},
   "outputs": [
    {
     "data": {
      "text/plain": [
       "199983"
      ]
     },
     "execution_count": 274,
     "metadata": {},
     "output_type": "execute_result"
    }
   ],
   "source": [
    "len(response.text)"
   ]
  },
  {
   "cell_type": "code",
   "execution_count": 275,
   "metadata": {},
   "outputs": [],
   "source": [
    "page_contents = response.text"
   ]
  },
  {
   "cell_type": "code",
   "execution_count": 276,
   "metadata": {},
   "outputs": [
    {
     "data": {
      "text/plain": [
       "'<!DOCTYPE html>\\n<html lang=\"en\" class=\"no-js\">\\n  <head>\\n    <title>Popular Movies &#8212; The Movie Database (TMDb)</title>\\n    <meta http-equiv=\"X-UA-Compatible\" content=\"IE=edge\" />\\n    <meta http-equiv=\"cleartype\" content=\"on\">\\n    <meta charset=\"utf-8\">\\n    \\n    <meta name=\"keywords\" content=\"Movies, TV Shows, Streaming, Reviews, API, Actors, Actresses, Photos, User Ratings, Synopsis, Trailers, Teasers, Credits, Cast\">\\n    <meta name=\"mobile-web-app-capable\" content=\"yes\">\\n    <meta name=\"apple-mobile-web-app-capable\" content=\"yes\">\\n    <meta name=\"HandheldFriendly\" content=\"True\">\\n    <meta name=\"MobileOptimized\" content=\"320\">\\n    \\n    <meta name=\"viewport\" content=\"width=1120\">\\n    \\n    <meta name=\"msapplication-TileImage\" content=\"/assets/2/v4/icons/mstile-144x144-30e7905a8315a080978ad6aeb71c69222b72c2f75d26dab1224173a96fecc962.png\">\\n<meta name=\"msapplication-TileColor\" content=\"#032541\">\\n<meta name=\"theme-color\" content=\"#032541\">\\n<link rel=\"apple-touch-icon\" sizes=\"180x180\" h'"
      ]
     },
     "execution_count": 276,
     "metadata": {},
     "output_type": "execute_result"
    }
   ],
   "source": [
    "page_contents[:1000]"
   ]
  },
  {
   "cell_type": "code",
   "execution_count": 277,
   "metadata": {},
   "outputs": [],
   "source": [
    "with open('webpage.html','w') as f:\n",
    "    f.write(page_contents)"
   ]
  },
  {
   "cell_type": "code",
   "execution_count": null,
   "metadata": {},
   "outputs": [],
   "source": []
  },
  {
   "cell_type": "markdown",
   "metadata": {},
   "source": [
    "## Use Beautiful Soup to parse and extract information"
   ]
  },
  {
   "cell_type": "code",
   "execution_count": 278,
   "metadata": {},
   "outputs": [],
   "source": [
    "!pip install beautifulsoup4 --upgrade --quiet"
   ]
  },
  {
   "cell_type": "code",
   "execution_count": 279,
   "metadata": {},
   "outputs": [],
   "source": [
    "from bs4 import BeautifulSoup"
   ]
  },
  {
   "cell_type": "code",
   "execution_count": 280,
   "metadata": {},
   "outputs": [],
   "source": [
    "doc = BeautifulSoup(page_contents,'html.parser')"
   ]
  },
  {
   "cell_type": "code",
   "execution_count": null,
   "metadata": {},
   "outputs": [],
   "source": []
  },
  {
   "cell_type": "markdown",
   "metadata": {},
   "source": [
    "### Movie Title"
   ]
  },
  {
   "cell_type": "code",
   "execution_count": 281,
   "metadata": {},
   "outputs": [],
   "source": [
    "movie_title = doc.find_all('h2')[4:]"
   ]
  },
  {
   "cell_type": "code",
   "execution_count": 282,
   "metadata": {},
   "outputs": [
    {
     "data": {
      "text/plain": [
       "20"
      ]
     },
     "execution_count": 282,
     "metadata": {},
     "output_type": "execute_result"
    }
   ],
   "source": [
    "len(movie_title)"
   ]
  },
  {
   "cell_type": "code",
   "execution_count": 283,
   "metadata": {},
   "outputs": [
    {
     "data": {
      "text/plain": [
       "[<h2><a href=\"/movie/399566\" title=\"Godzilla vs. Kong\">Godzilla vs. Kong</a></h2>,\n",
       " <h2><a href=\"/movie/791373\" title=\"Zack Snyder's Justice League\">Zack Snyder's Justice League</a></h2>,\n",
       " <h2><a href=\"/movie/412656\" title=\"Chaos Walking\">Chaos Walking</a></h2>,\n",
       " <h2><a href=\"/movie/527774\" title=\"Raya and the Last Dragon\">Raya and the Last Dragon</a></h2>,\n",
       " <h2><a href=\"/movie/460465\" title=\"Mortal Kombat\">Mortal Kombat</a></h2>]"
      ]
     },
     "execution_count": 283,
     "metadata": {},
     "output_type": "execute_result"
    }
   ],
   "source": [
    "movie_title[:5]"
   ]
  },
  {
   "cell_type": "code",
   "execution_count": null,
   "metadata": {},
   "outputs": [],
   "source": []
  },
  {
   "cell_type": "markdown",
   "metadata": {},
   "source": [
    "### Release Date"
   ]
  },
  {
   "cell_type": "code",
   "execution_count": 284,
   "metadata": {},
   "outputs": [],
   "source": [
    "release_date = doc.find_all('p')"
   ]
  },
  {
   "cell_type": "code",
   "execution_count": 285,
   "metadata": {},
   "outputs": [
    {
     "data": {
      "text/plain": [
       "33"
      ]
     },
     "execution_count": 285,
     "metadata": {},
     "output_type": "execute_result"
    }
   ],
   "source": [
    "len(release_date)"
   ]
  },
  {
   "cell_type": "code",
   "execution_count": 286,
   "metadata": {},
   "outputs": [],
   "source": [
    "release_date = release_date[1:21]"
   ]
  },
  {
   "cell_type": "code",
   "execution_count": 287,
   "metadata": {},
   "outputs": [
    {
     "data": {
      "text/plain": [
       "[<p>Mar 24, 2021</p>,\n",
       " <p>Mar 18, 2021</p>,\n",
       " <p>Feb 24, 2021</p>,\n",
       " <p>Mar 03, 2021</p>,\n",
       " <p>Apr 07, 2021</p>]"
      ]
     },
     "execution_count": 287,
     "metadata": {},
     "output_type": "execute_result"
    }
   ],
   "source": [
    "release_date[:5]"
   ]
  },
  {
   "cell_type": "code",
   "execution_count": null,
   "metadata": {},
   "outputs": [],
   "source": []
  },
  {
   "cell_type": "markdown",
   "metadata": {},
   "source": [
    "### User Rating"
   ]
  },
  {
   "cell_type": "code",
   "execution_count": 288,
   "metadata": {},
   "outputs": [],
   "source": [
    "user_rating = doc.find_all('div' , {'class':'percent'})"
   ]
  },
  {
   "cell_type": "code",
   "execution_count": 289,
   "metadata": {},
   "outputs": [
    {
     "data": {
      "text/plain": [
       "20"
      ]
     },
     "execution_count": 289,
     "metadata": {},
     "output_type": "execute_result"
    }
   ],
   "source": [
    "len(user_rating)"
   ]
  },
  {
   "cell_type": "code",
   "execution_count": 290,
   "metadata": {
    "scrolled": true
   },
   "outputs": [
    {
     "name": "stdout",
     "output_type": "stream",
     "text": [
      "20\n"
     ]
    }
   ],
   "source": [
    "user_ratings = []\n",
    "for i in user_rating:\n",
    "    data = ((i.parent)['data-percent'])\n",
    "    user_ratings.append(float(data))\n",
    "print(len(user_ratings))"
   ]
  },
  {
   "cell_type": "code",
   "execution_count": null,
   "metadata": {},
   "outputs": [],
   "source": []
  },
  {
   "cell_type": "markdown",
   "metadata": {},
   "source": [
    "### Movie Information URL"
   ]
  },
  {
   "cell_type": "code",
   "execution_count": 291,
   "metadata": {},
   "outputs": [],
   "source": [
    "movie_url = doc.find_all('a')"
   ]
  },
  {
   "cell_type": "code",
   "execution_count": 292,
   "metadata": {},
   "outputs": [
    {
     "name": "stdout",
     "output_type": "stream",
     "text": [
      "20\n",
      "['https://www.themoviedb.org/movie/399566', 'https://www.themoviedb.org/movie/791373', 'https://www.themoviedb.org/movie/412656', 'https://www.themoviedb.org/movie/527774', 'https://www.themoviedb.org/movie/460465', 'https://www.themoviedb.org/movie/544401', 'https://www.themoviedb.org/movie/587807', 'https://www.themoviedb.org/movie/664767', 'https://www.themoviedb.org/movie/644083', 'https://www.themoviedb.org/movie/458576', 'https://www.themoviedb.org/movie/793723', 'https://www.themoviedb.org/movie/464052', 'https://www.themoviedb.org/movie/587996', 'https://www.themoviedb.org/movie/581389', 'https://www.themoviedb.org/movie/632357', 'https://www.themoviedb.org/movie/802504', 'https://www.themoviedb.org/movie/775996', 'https://www.themoviedb.org/movie/581387', 'https://www.themoviedb.org/movie/797394', 'https://www.themoviedb.org/movie/522444']\n"
     ]
    }
   ],
   "source": [
    "movie_urls = []\n",
    "base_url = 'https://www.themoviedb.org'\n",
    "\n",
    "for i in movie_title:\n",
    "    for j in movie_url:\n",
    "        if j.text == i.text:\n",
    "            movie_urls.append(base_url + j['href'])\n",
    "\n",
    "print(len(movie_urls))\n",
    "print(movie_urls)"
   ]
  },
  {
   "cell_type": "code",
   "execution_count": null,
   "metadata": {},
   "outputs": [],
   "source": []
  },
  {
   "cell_type": "code",
   "execution_count": null,
   "metadata": {},
   "outputs": [],
   "source": []
  },
  {
   "cell_type": "markdown",
   "metadata": {},
   "source": [
    "### Basic Overview Dataframe Using Pandas"
   ]
  },
  {
   "cell_type": "code",
   "execution_count": 293,
   "metadata": {},
   "outputs": [
    {
     "name": "stdout",
     "output_type": "stream",
     "text": [
      "20\n",
      "['Godzilla vs. Kong', \"Zack Snyder's Justice League\", 'Chaos Walking', 'Raya and the Last Dragon', 'Mortal Kombat', 'Cherry', 'Tom & Jerry', \"Mortal Kombat Legends: Scorpion's Revenge\", 'Twist', 'Monster Hunter', 'Sentinelle', 'Wonder Woman 1984', 'Below Zero', 'Space Sweepers', 'The Unholy', 'Just Say Yes', 'Outside the Wire', 'Ashfall', 'Secret Magic Control Agency', 'Black Water: Abyss']\n",
      "20\n",
      "['Mar 24, 2021', 'Mar 18, 2021', 'Feb 24, 2021', 'Mar 03, 2021', 'Apr 07, 2021', 'Feb 26, 2021', 'Feb 11, 2021', 'Apr 12, 2020', 'Jan 22, 2021', 'Dec 03, 2020', 'Mar 05, 2021', 'Dec 16, 2020', 'Jan 29, 2021', 'Feb 05, 2021', 'Mar 31, 2021', 'Apr 02, 2021', 'Jan 15, 2021', 'Dec 19, 2019', 'Mar 18, 2021', 'Jul 09, 2020']\n",
      "20\n",
      "[83.0, 85.0, 75.0, 83.0, 75.0, 76.0, 73.0, 84.0, 68.0, 71.0, 61.0, 68.0, 64.0, 72.0, 61.0, 58.0, 65.0, 65.0, 72.0, 49.0]\n"
     ]
    }
   ],
   "source": [
    "movie_titles = []\n",
    "release_dates = []\n",
    "\n",
    "\n",
    "for i in movie_title:\n",
    "    movie_titles.append(i.text)\n",
    "    \n",
    "for i in release_date:\n",
    "    release_dates.append(i.text)\n",
    "\n",
    "print(len(movie_titles))\n",
    "print(movie_titles)\n",
    "print(len(release_dates))\n",
    "print(release_dates)\n",
    "print(len(user_ratings))\n",
    "print(user_ratings)"
   ]
  },
  {
   "cell_type": "code",
   "execution_count": null,
   "metadata": {},
   "outputs": [],
   "source": []
  },
  {
   "cell_type": "code",
   "execution_count": 294,
   "metadata": {},
   "outputs": [],
   "source": [
    "!pip install pandas --upgrade --quiet"
   ]
  },
  {
   "cell_type": "code",
   "execution_count": 295,
   "metadata": {},
   "outputs": [],
   "source": [
    "import pandas as pd"
   ]
  },
  {
   "cell_type": "code",
   "execution_count": 296,
   "metadata": {},
   "outputs": [],
   "source": [
    "topics_dict = {\n",
    "    'title' : movie_titles , \n",
    "    'release date' : release_dates ,\n",
    "    'user rating' : user_ratings , \n",
    "    'url' : movie_urls\n",
    "}"
   ]
  },
  {
   "cell_type": "code",
   "execution_count": 297,
   "metadata": {},
   "outputs": [],
   "source": [
    "topics_df = pd.DataFrame.from_dict(topics_dict)"
   ]
  },
  {
   "cell_type": "code",
   "execution_count": 298,
   "metadata": {},
   "outputs": [
    {
     "data": {
      "text/html": [
       "<div>\n",
       "<style scoped>\n",
       "    .dataframe tbody tr th:only-of-type {\n",
       "        vertical-align: middle;\n",
       "    }\n",
       "\n",
       "    .dataframe tbody tr th {\n",
       "        vertical-align: top;\n",
       "    }\n",
       "\n",
       "    .dataframe thead th {\n",
       "        text-align: right;\n",
       "    }\n",
       "</style>\n",
       "<table border=\"1\" class=\"dataframe\">\n",
       "  <thead>\n",
       "    <tr style=\"text-align: right;\">\n",
       "      <th></th>\n",
       "      <th>title</th>\n",
       "      <th>release date</th>\n",
       "      <th>user rating</th>\n",
       "      <th>url</th>\n",
       "    </tr>\n",
       "  </thead>\n",
       "  <tbody>\n",
       "    <tr>\n",
       "      <th>0</th>\n",
       "      <td>Godzilla vs. Kong</td>\n",
       "      <td>Mar 24, 2021</td>\n",
       "      <td>83.0</td>\n",
       "      <td>https://www.themoviedb.org/movie/399566</td>\n",
       "    </tr>\n",
       "    <tr>\n",
       "      <th>1</th>\n",
       "      <td>Zack Snyder's Justice League</td>\n",
       "      <td>Mar 18, 2021</td>\n",
       "      <td>85.0</td>\n",
       "      <td>https://www.themoviedb.org/movie/791373</td>\n",
       "    </tr>\n",
       "    <tr>\n",
       "      <th>2</th>\n",
       "      <td>Chaos Walking</td>\n",
       "      <td>Feb 24, 2021</td>\n",
       "      <td>75.0</td>\n",
       "      <td>https://www.themoviedb.org/movie/412656</td>\n",
       "    </tr>\n",
       "    <tr>\n",
       "      <th>3</th>\n",
       "      <td>Raya and the Last Dragon</td>\n",
       "      <td>Mar 03, 2021</td>\n",
       "      <td>83.0</td>\n",
       "      <td>https://www.themoviedb.org/movie/527774</td>\n",
       "    </tr>\n",
       "    <tr>\n",
       "      <th>4</th>\n",
       "      <td>Mortal Kombat</td>\n",
       "      <td>Apr 07, 2021</td>\n",
       "      <td>75.0</td>\n",
       "      <td>https://www.themoviedb.org/movie/460465</td>\n",
       "    </tr>\n",
       "    <tr>\n",
       "      <th>5</th>\n",
       "      <td>Cherry</td>\n",
       "      <td>Feb 26, 2021</td>\n",
       "      <td>76.0</td>\n",
       "      <td>https://www.themoviedb.org/movie/544401</td>\n",
       "    </tr>\n",
       "    <tr>\n",
       "      <th>6</th>\n",
       "      <td>Tom &amp; Jerry</td>\n",
       "      <td>Feb 11, 2021</td>\n",
       "      <td>73.0</td>\n",
       "      <td>https://www.themoviedb.org/movie/587807</td>\n",
       "    </tr>\n",
       "    <tr>\n",
       "      <th>7</th>\n",
       "      <td>Mortal Kombat Legends: Scorpion's Revenge</td>\n",
       "      <td>Apr 12, 2020</td>\n",
       "      <td>84.0</td>\n",
       "      <td>https://www.themoviedb.org/movie/664767</td>\n",
       "    </tr>\n",
       "    <tr>\n",
       "      <th>8</th>\n",
       "      <td>Twist</td>\n",
       "      <td>Jan 22, 2021</td>\n",
       "      <td>68.0</td>\n",
       "      <td>https://www.themoviedb.org/movie/644083</td>\n",
       "    </tr>\n",
       "    <tr>\n",
       "      <th>9</th>\n",
       "      <td>Monster Hunter</td>\n",
       "      <td>Dec 03, 2020</td>\n",
       "      <td>71.0</td>\n",
       "      <td>https://www.themoviedb.org/movie/458576</td>\n",
       "    </tr>\n",
       "    <tr>\n",
       "      <th>10</th>\n",
       "      <td>Sentinelle</td>\n",
       "      <td>Mar 05, 2021</td>\n",
       "      <td>61.0</td>\n",
       "      <td>https://www.themoviedb.org/movie/793723</td>\n",
       "    </tr>\n",
       "    <tr>\n",
       "      <th>11</th>\n",
       "      <td>Wonder Woman 1984</td>\n",
       "      <td>Dec 16, 2020</td>\n",
       "      <td>68.0</td>\n",
       "      <td>https://www.themoviedb.org/movie/464052</td>\n",
       "    </tr>\n",
       "    <tr>\n",
       "      <th>12</th>\n",
       "      <td>Below Zero</td>\n",
       "      <td>Jan 29, 2021</td>\n",
       "      <td>64.0</td>\n",
       "      <td>https://www.themoviedb.org/movie/587996</td>\n",
       "    </tr>\n",
       "    <tr>\n",
       "      <th>13</th>\n",
       "      <td>Space Sweepers</td>\n",
       "      <td>Feb 05, 2021</td>\n",
       "      <td>72.0</td>\n",
       "      <td>https://www.themoviedb.org/movie/581389</td>\n",
       "    </tr>\n",
       "    <tr>\n",
       "      <th>14</th>\n",
       "      <td>The Unholy</td>\n",
       "      <td>Mar 31, 2021</td>\n",
       "      <td>61.0</td>\n",
       "      <td>https://www.themoviedb.org/movie/632357</td>\n",
       "    </tr>\n",
       "    <tr>\n",
       "      <th>15</th>\n",
       "      <td>Just Say Yes</td>\n",
       "      <td>Apr 02, 2021</td>\n",
       "      <td>58.0</td>\n",
       "      <td>https://www.themoviedb.org/movie/802504</td>\n",
       "    </tr>\n",
       "    <tr>\n",
       "      <th>16</th>\n",
       "      <td>Outside the Wire</td>\n",
       "      <td>Jan 15, 2021</td>\n",
       "      <td>65.0</td>\n",
       "      <td>https://www.themoviedb.org/movie/775996</td>\n",
       "    </tr>\n",
       "    <tr>\n",
       "      <th>17</th>\n",
       "      <td>Ashfall</td>\n",
       "      <td>Dec 19, 2019</td>\n",
       "      <td>65.0</td>\n",
       "      <td>https://www.themoviedb.org/movie/581387</td>\n",
       "    </tr>\n",
       "    <tr>\n",
       "      <th>18</th>\n",
       "      <td>Secret Magic Control Agency</td>\n",
       "      <td>Mar 18, 2021</td>\n",
       "      <td>72.0</td>\n",
       "      <td>https://www.themoviedb.org/movie/797394</td>\n",
       "    </tr>\n",
       "    <tr>\n",
       "      <th>19</th>\n",
       "      <td>Black Water: Abyss</td>\n",
       "      <td>Jul 09, 2020</td>\n",
       "      <td>49.0</td>\n",
       "      <td>https://www.themoviedb.org/movie/522444</td>\n",
       "    </tr>\n",
       "  </tbody>\n",
       "</table>\n",
       "</div>"
      ],
      "text/plain": [
       "                                        title  release date  user rating  \\\n",
       "0                           Godzilla vs. Kong  Mar 24, 2021         83.0   \n",
       "1                Zack Snyder's Justice League  Mar 18, 2021         85.0   \n",
       "2                               Chaos Walking  Feb 24, 2021         75.0   \n",
       "3                    Raya and the Last Dragon  Mar 03, 2021         83.0   \n",
       "4                               Mortal Kombat  Apr 07, 2021         75.0   \n",
       "5                                      Cherry  Feb 26, 2021         76.0   \n",
       "6                                 Tom & Jerry  Feb 11, 2021         73.0   \n",
       "7   Mortal Kombat Legends: Scorpion's Revenge  Apr 12, 2020         84.0   \n",
       "8                                       Twist  Jan 22, 2021         68.0   \n",
       "9                              Monster Hunter  Dec 03, 2020         71.0   \n",
       "10                                 Sentinelle  Mar 05, 2021         61.0   \n",
       "11                          Wonder Woman 1984  Dec 16, 2020         68.0   \n",
       "12                                 Below Zero  Jan 29, 2021         64.0   \n",
       "13                             Space Sweepers  Feb 05, 2021         72.0   \n",
       "14                                 The Unholy  Mar 31, 2021         61.0   \n",
       "15                               Just Say Yes  Apr 02, 2021         58.0   \n",
       "16                           Outside the Wire  Jan 15, 2021         65.0   \n",
       "17                                    Ashfall  Dec 19, 2019         65.0   \n",
       "18                Secret Magic Control Agency  Mar 18, 2021         72.0   \n",
       "19                         Black Water: Abyss  Jul 09, 2020         49.0   \n",
       "\n",
       "                                        url  \n",
       "0   https://www.themoviedb.org/movie/399566  \n",
       "1   https://www.themoviedb.org/movie/791373  \n",
       "2   https://www.themoviedb.org/movie/412656  \n",
       "3   https://www.themoviedb.org/movie/527774  \n",
       "4   https://www.themoviedb.org/movie/460465  \n",
       "5   https://www.themoviedb.org/movie/544401  \n",
       "6   https://www.themoviedb.org/movie/587807  \n",
       "7   https://www.themoviedb.org/movie/664767  \n",
       "8   https://www.themoviedb.org/movie/644083  \n",
       "9   https://www.themoviedb.org/movie/458576  \n",
       "10  https://www.themoviedb.org/movie/793723  \n",
       "11  https://www.themoviedb.org/movie/464052  \n",
       "12  https://www.themoviedb.org/movie/587996  \n",
       "13  https://www.themoviedb.org/movie/581389  \n",
       "14  https://www.themoviedb.org/movie/632357  \n",
       "15  https://www.themoviedb.org/movie/802504  \n",
       "16  https://www.themoviedb.org/movie/775996  \n",
       "17  https://www.themoviedb.org/movie/581387  \n",
       "18  https://www.themoviedb.org/movie/797394  \n",
       "19  https://www.themoviedb.org/movie/522444  "
      ]
     },
     "execution_count": 298,
     "metadata": {},
     "output_type": "execute_result"
    }
   ],
   "source": [
    "topics_df"
   ]
  },
  {
   "cell_type": "code",
   "execution_count": null,
   "metadata": {},
   "outputs": [],
   "source": []
  },
  {
   "cell_type": "markdown",
   "metadata": {},
   "source": [
    "## Create CSV file(s) with the extracted information"
   ]
  },
  {
   "cell_type": "code",
   "execution_count": 299,
   "metadata": {},
   "outputs": [],
   "source": [
    "topics_df.to_csv('topics.csv')"
   ]
  },
  {
   "cell_type": "code",
   "execution_count": null,
   "metadata": {},
   "outputs": [],
   "source": []
  },
  {
   "cell_type": "markdown",
   "metadata": {},
   "source": [
    "## Getting Information Out of a topic page"
   ]
  },
  {
   "cell_type": "code",
   "execution_count": 300,
   "metadata": {},
   "outputs": [],
   "source": [
    "def topic_page(topics_url):\n",
    "    # Download the page\n",
    "    response = requests.get(topics_url)\n",
    "    # Check successful response\n",
    "    if response.status_code != 200:\n",
    "        raise Exception('Failed to load page {}'.format(topic_url))\n",
    "    # Parse using Beautiful soup\n",
    "    topic_doc = BeautifulSoup(response.text, 'html.parser')\n",
    "    return topic_doc"
   ]
  },
  {
   "cell_type": "code",
   "execution_count": null,
   "metadata": {},
   "outputs": [],
   "source": []
  },
  {
   "cell_type": "markdown",
   "metadata": {},
   "source": [
    "#### Trial on first URL"
   ]
  },
  {
   "cell_type": "code",
   "execution_count": 301,
   "metadata": {},
   "outputs": [],
   "source": [
    "topic_page_url = movie_urls[0]"
   ]
  },
  {
   "cell_type": "code",
   "execution_count": 302,
   "metadata": {},
   "outputs": [
    {
     "data": {
      "text/plain": [
       "'https://www.themoviedb.org/movie/399566'"
      ]
     },
     "execution_count": 302,
     "metadata": {},
     "output_type": "execute_result"
    }
   ],
   "source": [
    "topic_page_url"
   ]
  },
  {
   "cell_type": "code",
   "execution_count": 303,
   "metadata": {},
   "outputs": [],
   "source": [
    "response = requests.get(topic_page_url)"
   ]
  },
  {
   "cell_type": "code",
   "execution_count": 304,
   "metadata": {},
   "outputs": [
    {
     "data": {
      "text/plain": [
       "200"
      ]
     },
     "execution_count": 304,
     "metadata": {},
     "output_type": "execute_result"
    }
   ],
   "source": [
    "response.status_code"
   ]
  },
  {
   "cell_type": "code",
   "execution_count": 305,
   "metadata": {},
   "outputs": [
    {
     "data": {
      "text/plain": [
       "100177"
      ]
     },
     "execution_count": 305,
     "metadata": {},
     "output_type": "execute_result"
    }
   ],
   "source": [
    "len(response.text)"
   ]
  },
  {
   "cell_type": "code",
   "execution_count": 306,
   "metadata": {},
   "outputs": [],
   "source": [
    "topic_doc = BeautifulSoup(response.text,'html.parser')"
   ]
  },
  {
   "cell_type": "code",
   "execution_count": 307,
   "metadata": {},
   "outputs": [
    {
     "data": {
      "text/plain": [
       "['Action', 'Science Fiction']"
      ]
     },
     "execution_count": 307,
     "metadata": {},
     "output_type": "execute_result"
    }
   ],
   "source": [
    "#movie genre\n",
    "movie_genres = topic_doc.find('span',{'class':'genres'})\n",
    "movie_genres = movie_genres.contents[1::2]\n",
    "movie_genre = []\n",
    "for i in movie_genres:\n",
    "    movie_genre.append(i.text)\n",
    "movie_genre"
   ]
  },
  {
   "cell_type": "code",
   "execution_count": 308,
   "metadata": {},
   "outputs": [
    {
     "data": {
      "text/plain": [
       "'1h 53m'"
      ]
     },
     "execution_count": 308,
     "metadata": {},
     "output_type": "execute_result"
    }
   ],
   "source": [
    "#movie runtime\n",
    "movie_time = topic_doc.find('span',{'class':'runtime'})\n",
    "movie_time.text.strip()"
   ]
  },
  {
   "cell_type": "code",
   "execution_count": 309,
   "metadata": {},
   "outputs": [
    {
     "data": {
      "text/plain": [
       "'In a time when monsters walk the Earth, humanity’s fight for its future sets Godzilla and Kong on a collision course that will see the two most powerful forces of nature on the planet collide in a spectacular battle for the ages.'"
      ]
     },
     "execution_count": 309,
     "metadata": {},
     "output_type": "execute_result"
    }
   ],
   "source": [
    "movie_desc = topic_doc.find('p')\n",
    "movie_desc.text.strip()"
   ]
  },
  {
   "cell_type": "code",
   "execution_count": 310,
   "metadata": {},
   "outputs": [
    {
     "data": {
      "text/plain": [
       "['Alexander Skarsgård',\n",
       " 'Millie Bobby Brown',\n",
       " 'Rebecca Hall',\n",
       " 'Brian Tyree Henry',\n",
       " 'Shun Oguri',\n",
       " 'Eiza González',\n",
       " 'Julian Dennison',\n",
       " 'Lance Reddick',\n",
       " 'Kyle Chandler']"
      ]
     },
     "execution_count": 310,
     "metadata": {},
     "output_type": "execute_result"
    }
   ],
   "source": [
    "#top cast of movie\n",
    "movie_cast = topic_doc.find_all('li',{'class':'card'})\n",
    "movie_cast = [i.text[4:] for i in movie_cast]\n",
    "movies_cast = []\n",
    "for i in movie_cast:\n",
    "    s = i.split('\\n')\n",
    "    movies_cast.append(s[0])\n",
    "movies_cast"
   ]
  },
  {
   "cell_type": "code",
   "execution_count": null,
   "metadata": {},
   "outputs": [],
   "source": []
  },
  {
   "cell_type": "code",
   "execution_count": null,
   "metadata": {},
   "outputs": [],
   "source": []
  },
  {
   "cell_type": "markdown",
   "metadata": {},
   "source": [
    "### Generalising code"
   ]
  },
  {
   "cell_type": "code",
   "execution_count": 311,
   "metadata": {},
   "outputs": [],
   "source": [
    "def get_movie_info(topic_doc):\n",
    "    #movie genre\n",
    "    movie_genres = topic_doc.find('span',{'class':'genres'})\n",
    "    movie_genres = movie_genres.contents[1::2]\n",
    "    movie_genre = []\n",
    "    for i in movie_genres:\n",
    "        movie_genre.append(i.text)\n",
    "    movies_genre = ''\n",
    "    for i in movie_genre:\n",
    "        movies_genre += i + ' '\n",
    "    \n",
    "    #movie runtime\n",
    "    movie_time = topic_doc.find('span',{'class':'runtime'})\n",
    "    movie_time = movie_time.text.strip()\n",
    "    \n",
    "    #top cast of movie\n",
    "    movie_cast = topic_doc.find_all('li',{'class':'card'})\n",
    "    movie_cast = [i.text[4:] for i in movie_cast]\n",
    "    movie_cast = movie_cast[:3]\n",
    "    movies_cast = ''\n",
    "    for i in movie_cast:\n",
    "        s = i.split('\\n')\n",
    "        movies_cast += s[0] +','\n",
    "    \n",
    "    return movies_genre , movie_time , movies_cast[:-1]\n",
    "    "
   ]
  },
  {
   "cell_type": "code",
   "execution_count": 312,
   "metadata": {},
   "outputs": [],
   "source": [
    "movies_genre , movie_time , movies_cast = get_movie_info(topic_doc)"
   ]
  },
  {
   "cell_type": "code",
   "execution_count": 316,
   "metadata": {},
   "outputs": [],
   "source": [
    "genre = []\n",
    "time = []\n",
    "cast = []\n",
    "\n",
    "for i in range(len(movie_urls)):\n",
    "    topic_page_url = movie_urls[i]\n",
    "    topic_doc = topic_page(topic_page_url)\n",
    "    movies_genre , movie_time , movies_cast = get_movie_info(topic_doc)\n",
    "    genre.append(movies_genre)\n",
    "    time.append(movie_time)\n",
    "    cast.append(movies_cast)\n",
    "\n",
    "topics_df['genre'] = genre\n",
    "topics_df['runtime'] = time\n",
    "topics_df['top cast'] = cast"
   ]
  },
  {
   "cell_type": "code",
   "execution_count": 314,
   "metadata": {},
   "outputs": [
    {
     "data": {
      "text/html": [
       "<div>\n",
       "<style scoped>\n",
       "    .dataframe tbody tr th:only-of-type {\n",
       "        vertical-align: middle;\n",
       "    }\n",
       "\n",
       "    .dataframe tbody tr th {\n",
       "        vertical-align: top;\n",
       "    }\n",
       "\n",
       "    .dataframe thead th {\n",
       "        text-align: right;\n",
       "    }\n",
       "</style>\n",
       "<table border=\"1\" class=\"dataframe\">\n",
       "  <thead>\n",
       "    <tr style=\"text-align: right;\">\n",
       "      <th></th>\n",
       "      <th>title</th>\n",
       "      <th>release date</th>\n",
       "      <th>user rating</th>\n",
       "      <th>url</th>\n",
       "      <th>genre</th>\n",
       "      <th>runtime</th>\n",
       "      <th>top cast</th>\n",
       "    </tr>\n",
       "  </thead>\n",
       "  <tbody>\n",
       "    <tr>\n",
       "      <th>0</th>\n",
       "      <td>Godzilla vs. Kong</td>\n",
       "      <td>Mar 24, 2021</td>\n",
       "      <td>83.0</td>\n",
       "      <td>https://www.themoviedb.org/movie/399566</td>\n",
       "      <td>Action Science Fiction</td>\n",
       "      <td>1h 53m</td>\n",
       "      <td>Alexander Skarsgård,Millie Bobby Brown,Rebecca...</td>\n",
       "    </tr>\n",
       "    <tr>\n",
       "      <th>1</th>\n",
       "      <td>Zack Snyder's Justice League</td>\n",
       "      <td>Mar 18, 2021</td>\n",
       "      <td>85.0</td>\n",
       "      <td>https://www.themoviedb.org/movie/791373</td>\n",
       "      <td>Action Adventure Fantasy Science Fiction</td>\n",
       "      <td>4h 2m</td>\n",
       "      <td>Ben Affleck,Henry Cavill,Gal Gadot</td>\n",
       "    </tr>\n",
       "    <tr>\n",
       "      <th>2</th>\n",
       "      <td>Chaos Walking</td>\n",
       "      <td>Feb 24, 2021</td>\n",
       "      <td>75.0</td>\n",
       "      <td>https://www.themoviedb.org/movie/412656</td>\n",
       "      <td>Science Fiction Action Adventure Thriller</td>\n",
       "      <td>1h 49m</td>\n",
       "      <td>Tom Holland,Daisy Ridley,Mads Mikkelsen</td>\n",
       "    </tr>\n",
       "    <tr>\n",
       "      <th>3</th>\n",
       "      <td>Raya and the Last Dragon</td>\n",
       "      <td>Mar 03, 2021</td>\n",
       "      <td>83.0</td>\n",
       "      <td>https://www.themoviedb.org/movie/527774</td>\n",
       "      <td>Animation Adventure Fantasy Family Action</td>\n",
       "      <td>1h 47m</td>\n",
       "      <td>Kelly Marie Tran,Awkwafina,Izaac Wang</td>\n",
       "    </tr>\n",
       "    <tr>\n",
       "      <th>4</th>\n",
       "      <td>Mortal Kombat</td>\n",
       "      <td>Apr 07, 2021</td>\n",
       "      <td>75.0</td>\n",
       "      <td>https://www.themoviedb.org/movie/460465</td>\n",
       "      <td>Fantasy Action Adventure</td>\n",
       "      <td>1h 50m</td>\n",
       "      <td>Lewis Tan,Jessica McNamee,Josh Lawson</td>\n",
       "    </tr>\n",
       "    <tr>\n",
       "      <th>5</th>\n",
       "      <td>Cherry</td>\n",
       "      <td>Feb 26, 2021</td>\n",
       "      <td>76.0</td>\n",
       "      <td>https://www.themoviedb.org/movie/544401</td>\n",
       "      <td>Crime Drama</td>\n",
       "      <td>2h 20m</td>\n",
       "      <td>Tom Holland,Ciara Bravo,Jack Reynor</td>\n",
       "    </tr>\n",
       "    <tr>\n",
       "      <th>6</th>\n",
       "      <td>Tom &amp; Jerry</td>\n",
       "      <td>Feb 11, 2021</td>\n",
       "      <td>73.0</td>\n",
       "      <td>https://www.themoviedb.org/movie/587807</td>\n",
       "      <td>Comedy Family Animation</td>\n",
       "      <td>1h 41m</td>\n",
       "      <td>Chloë Grace Moretz,Michael Peña,Colin Jost</td>\n",
       "    </tr>\n",
       "    <tr>\n",
       "      <th>7</th>\n",
       "      <td>Mortal Kombat Legends: Scorpion's Revenge</td>\n",
       "      <td>Apr 12, 2020</td>\n",
       "      <td>84.0</td>\n",
       "      <td>https://www.themoviedb.org/movie/664767</td>\n",
       "      <td>Animation Action Fantasy</td>\n",
       "      <td>1h 20m</td>\n",
       "      <td>Patrick Seitz,Jordan Rodrigues,Jennifer Carpenter</td>\n",
       "    </tr>\n",
       "    <tr>\n",
       "      <th>8</th>\n",
       "      <td>Twist</td>\n",
       "      <td>Jan 22, 2021</td>\n",
       "      <td>68.0</td>\n",
       "      <td>https://www.themoviedb.org/movie/644083</td>\n",
       "      <td>Crime Drama Action</td>\n",
       "      <td>1h 30m</td>\n",
       "      <td>Raff Law,Michael Caine,Lena Headey</td>\n",
       "    </tr>\n",
       "    <tr>\n",
       "      <th>9</th>\n",
       "      <td>Monster Hunter</td>\n",
       "      <td>Dec 03, 2020</td>\n",
       "      <td>71.0</td>\n",
       "      <td>https://www.themoviedb.org/movie/458576</td>\n",
       "      <td>Fantasy Action Adventure</td>\n",
       "      <td>1h 44m</td>\n",
       "      <td>Milla Jovovich,Tony Jaa,T.I.</td>\n",
       "    </tr>\n",
       "    <tr>\n",
       "      <th>10</th>\n",
       "      <td>Sentinelle</td>\n",
       "      <td>Mar 05, 2021</td>\n",
       "      <td>61.0</td>\n",
       "      <td>https://www.themoviedb.org/movie/793723</td>\n",
       "      <td>Thriller Action Drama</td>\n",
       "      <td>1h 20m</td>\n",
       "      <td>Olga Kurylenko,Marilyn Lima,Michel Nabokoff</td>\n",
       "    </tr>\n",
       "    <tr>\n",
       "      <th>11</th>\n",
       "      <td>Wonder Woman 1984</td>\n",
       "      <td>Dec 16, 2020</td>\n",
       "      <td>68.0</td>\n",
       "      <td>https://www.themoviedb.org/movie/464052</td>\n",
       "      <td>Fantasy Action Adventure</td>\n",
       "      <td>2h 31m</td>\n",
       "      <td>Gal Gadot,Chris Pine,Kristen Wiig</td>\n",
       "    </tr>\n",
       "    <tr>\n",
       "      <th>12</th>\n",
       "      <td>Below Zero</td>\n",
       "      <td>Jan 29, 2021</td>\n",
       "      <td>64.0</td>\n",
       "      <td>https://www.themoviedb.org/movie/587996</td>\n",
       "      <td>Action Crime Thriller</td>\n",
       "      <td>1h 46m</td>\n",
       "      <td>Javier Gutiérrez,Karra Elejalde,Luis Callejo</td>\n",
       "    </tr>\n",
       "    <tr>\n",
       "      <th>13</th>\n",
       "      <td>Space Sweepers</td>\n",
       "      <td>Feb 05, 2021</td>\n",
       "      <td>72.0</td>\n",
       "      <td>https://www.themoviedb.org/movie/581389</td>\n",
       "      <td>Drama Fantasy Science Fiction</td>\n",
       "      <td>2h 16m</td>\n",
       "      <td>Song Joong-ki,Kim Tae-ri,Yoo Hae-jin</td>\n",
       "    </tr>\n",
       "    <tr>\n",
       "      <th>14</th>\n",
       "      <td>The Unholy</td>\n",
       "      <td>Mar 31, 2021</td>\n",
       "      <td>61.0</td>\n",
       "      <td>https://www.themoviedb.org/movie/632357</td>\n",
       "      <td>Horror</td>\n",
       "      <td>1h 39m</td>\n",
       "      <td>Jeffrey Dean Morgan,Cricket Brown,Cary Elwes</td>\n",
       "    </tr>\n",
       "    <tr>\n",
       "      <th>15</th>\n",
       "      <td>Just Say Yes</td>\n",
       "      <td>Apr 02, 2021</td>\n",
       "      <td>58.0</td>\n",
       "      <td>https://www.themoviedb.org/movie/802504</td>\n",
       "      <td>Comedy Romance</td>\n",
       "      <td>1h 37m</td>\n",
       "      <td>Yolanthe Cabau,Huub Smit,Jim Bakkum</td>\n",
       "    </tr>\n",
       "    <tr>\n",
       "      <th>16</th>\n",
       "      <td>Outside the Wire</td>\n",
       "      <td>Jan 15, 2021</td>\n",
       "      <td>65.0</td>\n",
       "      <td>https://www.themoviedb.org/movie/775996</td>\n",
       "      <td>Thriller Action Science Fiction Fantasy</td>\n",
       "      <td>1h 56m</td>\n",
       "      <td>Anthony Mackie,Damson Idris,Enzo Cilenti</td>\n",
       "    </tr>\n",
       "    <tr>\n",
       "      <th>17</th>\n",
       "      <td>Ashfall</td>\n",
       "      <td>Dec 19, 2019</td>\n",
       "      <td>65.0</td>\n",
       "      <td>https://www.themoviedb.org/movie/581387</td>\n",
       "      <td>Action Adventure Thriller</td>\n",
       "      <td>2h 8m</td>\n",
       "      <td>Lee Byung-hun,Ha Jung-woo,Ma Dong-seok</td>\n",
       "    </tr>\n",
       "    <tr>\n",
       "      <th>18</th>\n",
       "      <td>Secret Magic Control Agency</td>\n",
       "      <td>Mar 18, 2021</td>\n",
       "      <td>72.0</td>\n",
       "      <td>https://www.themoviedb.org/movie/797394</td>\n",
       "      <td>Animation Comedy Fantasy</td>\n",
       "      <td>1h 44m</td>\n",
       "      <td>Valery Smekalov,Irina Obrezkova,Alexey Makretsky</td>\n",
       "    </tr>\n",
       "    <tr>\n",
       "      <th>19</th>\n",
       "      <td>Black Water: Abyss</td>\n",
       "      <td>Jul 09, 2020</td>\n",
       "      <td>49.0</td>\n",
       "      <td>https://www.themoviedb.org/movie/522444</td>\n",
       "      <td>Horror Thriller Adventure Mystery</td>\n",
       "      <td>1h 38m</td>\n",
       "      <td>Jessica McNamee,Anthony J. Sharpe,Amali Golden</td>\n",
       "    </tr>\n",
       "  </tbody>\n",
       "</table>\n",
       "</div>"
      ],
      "text/plain": [
       "                                        title  release date  user rating  \\\n",
       "0                           Godzilla vs. Kong  Mar 24, 2021         83.0   \n",
       "1                Zack Snyder's Justice League  Mar 18, 2021         85.0   \n",
       "2                               Chaos Walking  Feb 24, 2021         75.0   \n",
       "3                    Raya and the Last Dragon  Mar 03, 2021         83.0   \n",
       "4                               Mortal Kombat  Apr 07, 2021         75.0   \n",
       "5                                      Cherry  Feb 26, 2021         76.0   \n",
       "6                                 Tom & Jerry  Feb 11, 2021         73.0   \n",
       "7   Mortal Kombat Legends: Scorpion's Revenge  Apr 12, 2020         84.0   \n",
       "8                                       Twist  Jan 22, 2021         68.0   \n",
       "9                              Monster Hunter  Dec 03, 2020         71.0   \n",
       "10                                 Sentinelle  Mar 05, 2021         61.0   \n",
       "11                          Wonder Woman 1984  Dec 16, 2020         68.0   \n",
       "12                                 Below Zero  Jan 29, 2021         64.0   \n",
       "13                             Space Sweepers  Feb 05, 2021         72.0   \n",
       "14                                 The Unholy  Mar 31, 2021         61.0   \n",
       "15                               Just Say Yes  Apr 02, 2021         58.0   \n",
       "16                           Outside the Wire  Jan 15, 2021         65.0   \n",
       "17                                    Ashfall  Dec 19, 2019         65.0   \n",
       "18                Secret Magic Control Agency  Mar 18, 2021         72.0   \n",
       "19                         Black Water: Abyss  Jul 09, 2020         49.0   \n",
       "\n",
       "                                        url  \\\n",
       "0   https://www.themoviedb.org/movie/399566   \n",
       "1   https://www.themoviedb.org/movie/791373   \n",
       "2   https://www.themoviedb.org/movie/412656   \n",
       "3   https://www.themoviedb.org/movie/527774   \n",
       "4   https://www.themoviedb.org/movie/460465   \n",
       "5   https://www.themoviedb.org/movie/544401   \n",
       "6   https://www.themoviedb.org/movie/587807   \n",
       "7   https://www.themoviedb.org/movie/664767   \n",
       "8   https://www.themoviedb.org/movie/644083   \n",
       "9   https://www.themoviedb.org/movie/458576   \n",
       "10  https://www.themoviedb.org/movie/793723   \n",
       "11  https://www.themoviedb.org/movie/464052   \n",
       "12  https://www.themoviedb.org/movie/587996   \n",
       "13  https://www.themoviedb.org/movie/581389   \n",
       "14  https://www.themoviedb.org/movie/632357   \n",
       "15  https://www.themoviedb.org/movie/802504   \n",
       "16  https://www.themoviedb.org/movie/775996   \n",
       "17  https://www.themoviedb.org/movie/581387   \n",
       "18  https://www.themoviedb.org/movie/797394   \n",
       "19  https://www.themoviedb.org/movie/522444   \n",
       "\n",
       "                                         genre runtime  \\\n",
       "0                      Action Science Fiction   1h 53m   \n",
       "1    Action Adventure Fantasy Science Fiction    4h 2m   \n",
       "2   Science Fiction Action Adventure Thriller   1h 49m   \n",
       "3   Animation Adventure Fantasy Family Action   1h 47m   \n",
       "4                    Fantasy Action Adventure   1h 50m   \n",
       "5                                 Crime Drama   2h 20m   \n",
       "6                     Comedy Family Animation   1h 41m   \n",
       "7                    Animation Action Fantasy   1h 20m   \n",
       "8                          Crime Drama Action   1h 30m   \n",
       "9                    Fantasy Action Adventure   1h 44m   \n",
       "10                      Thriller Action Drama   1h 20m   \n",
       "11                   Fantasy Action Adventure   2h 31m   \n",
       "12                      Action Crime Thriller   1h 46m   \n",
       "13              Drama Fantasy Science Fiction   2h 16m   \n",
       "14                                     Horror   1h 39m   \n",
       "15                             Comedy Romance   1h 37m   \n",
       "16    Thriller Action Science Fiction Fantasy   1h 56m   \n",
       "17                  Action Adventure Thriller    2h 8m   \n",
       "18                   Animation Comedy Fantasy   1h 44m   \n",
       "19          Horror Thriller Adventure Mystery   1h 38m   \n",
       "\n",
       "                                             top cast  \n",
       "0   Alexander Skarsgård,Millie Bobby Brown,Rebecca...  \n",
       "1                  Ben Affleck,Henry Cavill,Gal Gadot  \n",
       "2             Tom Holland,Daisy Ridley,Mads Mikkelsen  \n",
       "3               Kelly Marie Tran,Awkwafina,Izaac Wang  \n",
       "4               Lewis Tan,Jessica McNamee,Josh Lawson  \n",
       "5                 Tom Holland,Ciara Bravo,Jack Reynor  \n",
       "6          Chloë Grace Moretz,Michael Peña,Colin Jost  \n",
       "7   Patrick Seitz,Jordan Rodrigues,Jennifer Carpenter  \n",
       "8                  Raff Law,Michael Caine,Lena Headey  \n",
       "9                        Milla Jovovich,Tony Jaa,T.I.  \n",
       "10        Olga Kurylenko,Marilyn Lima,Michel Nabokoff  \n",
       "11                  Gal Gadot,Chris Pine,Kristen Wiig  \n",
       "12       Javier Gutiérrez,Karra Elejalde,Luis Callejo  \n",
       "13               Song Joong-ki,Kim Tae-ri,Yoo Hae-jin  \n",
       "14       Jeffrey Dean Morgan,Cricket Brown,Cary Elwes  \n",
       "15                Yolanthe Cabau,Huub Smit,Jim Bakkum  \n",
       "16           Anthony Mackie,Damson Idris,Enzo Cilenti  \n",
       "17             Lee Byung-hun,Ha Jung-woo,Ma Dong-seok  \n",
       "18   Valery Smekalov,Irina Obrezkova,Alexey Makretsky  \n",
       "19     Jessica McNamee,Anthony J. Sharpe,Amali Golden  "
      ]
     },
     "execution_count": 314,
     "metadata": {},
     "output_type": "execute_result"
    }
   ],
   "source": [
    "topics_df"
   ]
  }
 ],
 "metadata": {
  "kernelspec": {
   "display_name": "Python 3",
   "language": "python",
   "name": "python3"
  },
  "language_info": {
   "codemirror_mode": {
    "name": "ipython",
    "version": 3
   },
   "file_extension": ".py",
   "mimetype": "text/x-python",
   "name": "python",
   "nbconvert_exporter": "python",
   "pygments_lexer": "ipython3",
   "version": "3.8.5"
  }
 },
 "nbformat": 4,
 "nbformat_minor": 2
}
